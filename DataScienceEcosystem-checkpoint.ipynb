{
 "cells": [
  {
   "cell_type": "markdown",
   "id": "ab386dcd",
   "metadata": {},
   "source": [
    "Exercise 2: Create markdown cell with title of the notebook"
   ]
  },
  {
   "cell_type": "markdown",
   "id": "96279313",
   "metadata": {},
   "source": [
    "# Data Science Tools and Ecosystem"
   ]
  },
  {
   "cell_type": "markdown",
   "id": "dc0131a0",
   "metadata": {},
   "source": [
    "Exercise 3 - Create a markdown cell for an introduction"
   ]
  },
  {
   "cell_type": "markdown",
   "id": "703f8a63",
   "metadata": {},
   "source": [
    "In this notebook, Data Science Tools and Ecosystem are summarized.\n"
   ]
  },
  {
   "cell_type": "markdown",
   "id": "a726038b",
   "metadata": {},
   "source": [
    "Exercise 10 - Insert a markdown cell to list Objectives"
   ]
  },
  {
   "cell_type": "code",
   "execution_count": 12,
   "id": "bac3d043",
   "metadata": {},
   "outputs": [
    {
     "name": "stdout",
     "output_type": "stream",
     "text": [
      "Markdown cell added to {markdown_content}.\n"
     ]
    }
   ],
   "source": [
    "import nbformat as nbf\n",
    "\n",
    "\n",
    "markdown_content = \"\"\"\n",
    "**Objectives:**\n",
    "\n",
    "- List popular languages for Data Science\n",
    "- Explore commonly used libraries for Data Science\n",
    "- Understand the use of Jupyter Notebooks\n",
    "- Learn basic data visualization techniques\n",
    "- Discuss key tools for Data Science\n",
    "\"\"\"\n",
    "\n",
    "print(\"Markdown cell added to {markdown_content}.\")"
   ]
  },
  {
   "cell_type": "markdown",
   "id": "7d759265",
   "metadata": {},
   "source": [
    "Exercise 4 - Create a markdown cell to list data science languages"
   ]
  },
  {
   "cell_type": "markdown",
   "id": "492f73f3",
   "metadata": {},
   "source": [
    "\n",
    "\n",
    "### List of Data Science Languages\n",
    "- Python\n",
    "- R\n",
    "- SQL\n",
    "- Julia\n",
    "- Scala\n",
    "- Java\n",
    "- MATLAB\n",
    "\n",
    "\n",
    "\n"
   ]
  },
  {
   "cell_type": "markdown",
   "id": "cddedcff",
   "metadata": {},
   "source": [
    "Exercise 5 - Create a markdown cell to list data science libraries"
   ]
  },
  {
   "cell_type": "markdown",
   "id": "9a0b1f48",
   "metadata": {},
   "source": [
    "\n",
    "## Popular Data Science Libraries\n",
    "\n",
    "- **NumPy**: Fundamental package for numerical computing.\n",
    "- **Pandas**: Data manipulation and analysis.\n",
    "- **Matplotlib**: Data visualization.\n",
    "- **Seaborn**: Statistical data visualization.\n",
    "- **Scikit-learn**: Machine learning algorithms.\n",
    "- **TensorFlow**: Deep learning framework.\n",
    "- **PyTorch**: Deep learning framework.\n",
    "- **SciPy**: Advanced scientific computing.\n",
    "- **Statsmodels**: Statistical modeling.\n",
    "- **NLTK**: Natural Language Processing.\n",
    "- **XGBoost**: Gradient boosting for decision trees.\n",
    "\n",
    "\n"
   ]
  },
  {
   "cell_type": "markdown",
   "id": "524766c5",
   "metadata": {},
   "source": [
    "Exercise 6 - Create a markdown cell with a table of Data Science tools"
   ]
  },
  {
   "cell_type": "markdown",
   "id": "5c22f499",
   "metadata": {},
   "source": [
    "| Data Science Tools       |\n",
    "|---------------------------|\n",
    "| Jupyter Notebook          |\n",
    "| RStudio                   |\n",
    "| Apache Zeppelin           |\n"
   ]
  },
  {
   "cell_type": "markdown",
   "id": "3fd03ea0",
   "metadata": {},
   "source": [
    "Exercise 7 - Create a markdown cell introducing arithmetic expression examples"
   ]
  },
  {
   "cell_type": "markdown",
   "id": "c4abfaf8",
   "metadata": {},
   "source": [
    "### Arithmetic Expression Examples\n",
    "\n",
    "Arithmetic expressions are used to perform calculations. Here are some examples:\n",
    "\n",
    "1. **Addition:** `2 + 3 = 5`\n",
    "2. **Subtraction:** `7 - 4 = 3`\n",
    "3. **Multiplication:** `6 * 3 = 18`\n",
    "4. **Division:** `8 / 2 = 4.0`\n",
    "5. **Exponentiation:** `2 ** 3 = 8`\n"
   ]
  },
  {
   "cell_type": "markdown",
   "id": "add5bd88",
   "metadata": {},
   "source": [
    "Exercise 8 - Create a code cell to multiply and add numbers"
   ]
  },
  {
   "cell_type": "code",
   "execution_count": 3,
   "id": "a2cc9350",
   "metadata": {},
   "outputs": [
    {
     "name": "stdout",
     "output_type": "stream",
     "text": [
      "17\n"
     ]
    }
   ],
   "source": [
    "# This is a simple arithmetic expression to multiply then add integers\n",
    "result = (3 * 4) + 5\n",
    "print(result)\n"
   ]
  },
  {
   "cell_type": "markdown",
   "id": "b92adb87",
   "metadata": {},
   "source": [
    "Exercise 9 - Create a code cell to convert minutes to hours"
   ]
  },
  {
   "cell_type": "code",
   "execution_count": 4,
   "id": "37bb1ffa",
   "metadata": {},
   "outputs": [
    {
     "data": {
      "text/plain": [
       "3.3333333333333335"
      ]
     },
     "execution_count": 4,
     "metadata": {},
     "output_type": "execute_result"
    }
   ],
   "source": [
    "# This will convert 200 minutes to hours by dividing by 60\n",
    "minutes = 200\n",
    "hours = minutes / 60\n",
    "hours\n"
   ]
  },
  {
   "cell_type": "code",
   "execution_count": null,
   "id": "c61a8a1d",
   "metadata": {},
   "outputs": [],
   "source": [
    "Exercise 10 - Insert a markdown cell to list Objectives"
   ]
  },
  {
   "cell_type": "markdown",
   "id": "14e63403",
   "metadata": {},
   "source": [
    "\n",
    "### Objectives\n",
    "- Understand the basics of Lightweight Cryptography.\n",
    "- Learn about Random Number Generation techniques.\n",
    "- Explore Secure Machine Learning models for IoT.\n",
    "- Design hybrid solutions for Smart City security challenges.\n",
    "\n"
   ]
  },
  {
   "cell_type": "code",
   "execution_count": null,
   "id": "93d0cd3f",
   "metadata": {},
   "outputs": [],
   "source": [
    "Exercise 11 - Create a markdown cell to indicate the Author's name"
   ]
  },
  {
   "cell_type": "markdown",
   "id": "8b330a22",
   "metadata": {},
   "source": [
    "# Author: Md Shamsul Haque Ansari\n"
   ]
  },
  {
   "cell_type": "code",
   "execution_count": null,
   "id": "2b27d186",
   "metadata": {},
   "outputs": [],
   "source": []
  }
 ],
 "metadata": {
  "kernelspec": {
   "display_name": "Python 3 (ipykernel)",
   "language": "python",
   "name": "python3"
  },
  "language_info": {
   "codemirror_mode": {
    "name": "ipython",
    "version": 3
   },
   "file_extension": ".py",
   "mimetype": "text/x-python",
   "name": "python",
   "nbconvert_exporter": "python",
   "pygments_lexer": "ipython3",
   "version": "3.10.9"
  }
 },
 "nbformat": 4,
 "nbformat_minor": 5
}
